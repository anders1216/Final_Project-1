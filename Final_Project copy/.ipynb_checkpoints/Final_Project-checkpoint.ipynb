{
 "cells": [
  {
   "cell_type": "code",
   "execution_count": 3,
   "metadata": {
    "collapsed": true
   },
   "outputs": [],
   "source": [
    "## importing libraries\n",
    "import pandas as pd\n",
    "import matplotlib.pyplot as plt\n",
    "import re\n",
    "import math"
   ]
  },
  {
   "cell_type": "code",
   "execution_count": 4,
   "metadata": {
    "collapsed": false
   },
   "outputs": [],
   "source": [
    "#reading the data into a variable\n",
    "data = pd.read_excel('journal.pone.0112102.s005.XLSX')"
   ]
  },
  {
   "cell_type": "code",
   "execution_count": 5,
   "metadata": {
    "collapsed": false,
    "scrolled": false
   },
   "outputs": [
    {
     "data": {
      "text/html": [
       "<div>\n",
       "<table border=\"1\" class=\"dataframe\">\n",
       "  <thead>\n",
       "    <tr style=\"text-align: right;\">\n",
       "      <th></th>\n",
       "      <th>test_id</th>\n",
       "      <th>gene_id</th>\n",
       "      <th>gene</th>\n",
       "      <th>locus</th>\n",
       "      <th>sample_1</th>\n",
       "      <th>sample_2</th>\n",
       "      <th>status</th>\n",
       "      <th>value_1</th>\n",
       "      <th>value_2</th>\n",
       "      <th>log2(fold_change)</th>\n",
       "      <th>test_stat</th>\n",
       "      <th>p_value</th>\n",
       "      <th>q_value</th>\n",
       "      <th>significant</th>\n",
       "    </tr>\n",
       "  </thead>\n",
       "  <tbody>\n",
       "    <tr>\n",
       "      <th>0</th>\n",
       "      <td>21ur-1</td>\n",
       "      <td>21ur-1</td>\n",
       "      <td>21ur-1</td>\n",
       "      <td>chrIV:16687073-16687098</td>\n",
       "      <td>ref</td>\n",
       "      <td>NSM</td>\n",
       "      <td>NOTEST</td>\n",
       "      <td>0</td>\n",
       "      <td>0</td>\n",
       "      <td>0</td>\n",
       "      <td>0</td>\n",
       "      <td>1</td>\n",
       "      <td>1</td>\n",
       "      <td>no</td>\n",
       "    </tr>\n",
       "    <tr>\n",
       "      <th>1</th>\n",
       "      <td>21ur-10</td>\n",
       "      <td>21ur-10</td>\n",
       "      <td>21ur-10</td>\n",
       "      <td>chrIV:16888163-16888184</td>\n",
       "      <td>ref</td>\n",
       "      <td>NSM</td>\n",
       "      <td>NOTEST</td>\n",
       "      <td>0</td>\n",
       "      <td>0</td>\n",
       "      <td>0</td>\n",
       "      <td>0</td>\n",
       "      <td>1</td>\n",
       "      <td>1</td>\n",
       "      <td>no</td>\n",
       "    </tr>\n",
       "    <tr>\n",
       "      <th>2</th>\n",
       "      <td>21ur-100</td>\n",
       "      <td>21ur-100</td>\n",
       "      <td>21ur-100</td>\n",
       "      <td>chrIV:5924786-5924807</td>\n",
       "      <td>ref</td>\n",
       "      <td>NSM</td>\n",
       "      <td>NOTEST</td>\n",
       "      <td>0</td>\n",
       "      <td>0</td>\n",
       "      <td>0</td>\n",
       "      <td>0</td>\n",
       "      <td>1</td>\n",
       "      <td>1</td>\n",
       "      <td>no</td>\n",
       "    </tr>\n",
       "    <tr>\n",
       "      <th>3</th>\n",
       "      <td>21ur-1000</td>\n",
       "      <td>21ur-1000</td>\n",
       "      <td>21ur-1000</td>\n",
       "      <td>chrIV:14721532-14721553</td>\n",
       "      <td>ref</td>\n",
       "      <td>NSM</td>\n",
       "      <td>NOTEST</td>\n",
       "      <td>0</td>\n",
       "      <td>0</td>\n",
       "      <td>0</td>\n",
       "      <td>0</td>\n",
       "      <td>1</td>\n",
       "      <td>1</td>\n",
       "      <td>no</td>\n",
       "    </tr>\n",
       "    <tr>\n",
       "      <th>4</th>\n",
       "      <td>21ur-10000</td>\n",
       "      <td>21ur-10000</td>\n",
       "      <td>21ur-10000</td>\n",
       "      <td>chrIV:17151519-17151540</td>\n",
       "      <td>ref</td>\n",
       "      <td>NSM</td>\n",
       "      <td>NOTEST</td>\n",
       "      <td>0</td>\n",
       "      <td>0</td>\n",
       "      <td>0</td>\n",
       "      <td>0</td>\n",
       "      <td>1</td>\n",
       "      <td>1</td>\n",
       "      <td>no</td>\n",
       "    </tr>\n",
       "  </tbody>\n",
       "</table>\n",
       "</div>"
      ],
      "text/plain": [
       "      test_id     gene_id        gene                    locus sample_1  \\\n",
       "0      21ur-1      21ur-1      21ur-1  chrIV:16687073-16687098      ref   \n",
       "1     21ur-10     21ur-10     21ur-10  chrIV:16888163-16888184      ref   \n",
       "2    21ur-100    21ur-100    21ur-100    chrIV:5924786-5924807      ref   \n",
       "3   21ur-1000   21ur-1000   21ur-1000  chrIV:14721532-14721553      ref   \n",
       "4  21ur-10000  21ur-10000  21ur-10000  chrIV:17151519-17151540      ref   \n",
       "\n",
       "  sample_2  status  value_1  value_2  log2(fold_change)  test_stat  p_value  \\\n",
       "0      NSM  NOTEST        0        0                  0          0        1   \n",
       "1      NSM  NOTEST        0        0                  0          0        1   \n",
       "2      NSM  NOTEST        0        0                  0          0        1   \n",
       "3      NSM  NOTEST        0        0                  0          0        1   \n",
       "4      NSM  NOTEST        0        0                  0          0        1   \n",
       "\n",
       "   q_value significant  \n",
       "0        1          no  \n",
       "1        1          no  \n",
       "2        1          no  \n",
       "3        1          no  \n",
       "4        1          no  "
      ]
     },
     "execution_count": 5,
     "metadata": {},
     "output_type": "execute_result"
    }
   ],
   "source": [
    "#peeking at the data\n",
    "data.head(5)"
   ]
  },
  {
   "cell_type": "code",
   "execution_count": 6,
   "metadata": {
    "collapsed": false,
    "scrolled": false
   },
   "outputs": [],
   "source": [
    "#getting rid of extra columns\n",
    "new_data= data[['gene','sample_1','value_1','sample_2','value_2']]"
   ]
  },
  {
   "cell_type": "code",
   "execution_count": 7,
   "metadata": {
    "collapsed": false,
    "scrolled": true
   },
   "outputs": [
    {
     "data": {
      "text/html": [
       "<div>\n",
       "<table border=\"1\" class=\"dataframe\">\n",
       "  <thead>\n",
       "    <tr style=\"text-align: right;\">\n",
       "      <th></th>\n",
       "      <th>gene</th>\n",
       "      <th>sample_1</th>\n",
       "      <th>value_1</th>\n",
       "      <th>sample_2</th>\n",
       "      <th>value_2</th>\n",
       "    </tr>\n",
       "  </thead>\n",
       "  <tbody>\n",
       "    <tr>\n",
       "      <th>0</th>\n",
       "      <td>21ur-1</td>\n",
       "      <td>ref</td>\n",
       "      <td>0</td>\n",
       "      <td>NSM</td>\n",
       "      <td>0</td>\n",
       "    </tr>\n",
       "    <tr>\n",
       "      <th>1</th>\n",
       "      <td>21ur-10</td>\n",
       "      <td>ref</td>\n",
       "      <td>0</td>\n",
       "      <td>NSM</td>\n",
       "      <td>0</td>\n",
       "    </tr>\n",
       "    <tr>\n",
       "      <th>2</th>\n",
       "      <td>21ur-100</td>\n",
       "      <td>ref</td>\n",
       "      <td>0</td>\n",
       "      <td>NSM</td>\n",
       "      <td>0</td>\n",
       "    </tr>\n",
       "    <tr>\n",
       "      <th>3</th>\n",
       "      <td>21ur-1000</td>\n",
       "      <td>ref</td>\n",
       "      <td>0</td>\n",
       "      <td>NSM</td>\n",
       "      <td>0</td>\n",
       "    </tr>\n",
       "    <tr>\n",
       "      <th>4</th>\n",
       "      <td>21ur-10000</td>\n",
       "      <td>ref</td>\n",
       "      <td>0</td>\n",
       "      <td>NSM</td>\n",
       "      <td>0</td>\n",
       "    </tr>\n",
       "  </tbody>\n",
       "</table>\n",
       "</div>"
      ],
      "text/plain": [
       "         gene sample_1  value_1 sample_2  value_2\n",
       "0      21ur-1      ref        0      NSM        0\n",
       "1     21ur-10      ref        0      NSM        0\n",
       "2    21ur-100      ref        0      NSM        0\n",
       "3   21ur-1000      ref        0      NSM        0\n",
       "4  21ur-10000      ref        0      NSM        0"
      ]
     },
     "execution_count": 7,
     "metadata": {},
     "output_type": "execute_result"
    }
   ],
   "source": [
    "new_data.head(5)"
   ]
  },
  {
   "cell_type": "code",
   "execution_count": 8,
   "metadata": {
    "collapsed": false
   },
   "outputs": [],
   "source": [
    "#making an even smaller dataset\n",
    "small_data = data[['gene','value_1','value_2']]"
   ]
  },
  {
   "cell_type": "code",
   "execution_count": 9,
   "metadata": {
    "collapsed": true
   },
   "outputs": [],
   "source": [
    "#dropping the zeros\n",
    "smaller_data = small_data[(small_data.T != 0).all()]"
   ]
  },
  {
   "cell_type": "code",
   "execution_count": 10,
   "metadata": {
    "collapsed": false
   },
   "outputs": [
    {
     "data": {
      "text/html": [
       "<div>\n",
       "<table border=\"1\" class=\"dataframe\">\n",
       "  <thead>\n",
       "    <tr style=\"text-align: right;\">\n",
       "      <th></th>\n",
       "      <th>gene</th>\n",
       "      <th>value_1</th>\n",
       "      <th>value_2</th>\n",
       "    </tr>\n",
       "  </thead>\n",
       "  <tbody>\n",
       "    <tr>\n",
       "      <th>13348</th>\n",
       "      <td>2L52.1</td>\n",
       "      <td>12.73480</td>\n",
       "      <td>0.195868</td>\n",
       "    </tr>\n",
       "    <tr>\n",
       "      <th>13349</th>\n",
       "      <td>2RSSE.1</td>\n",
       "      <td>25.85350</td>\n",
       "      <td>60.047000</td>\n",
       "    </tr>\n",
       "    <tr>\n",
       "      <th>13350</th>\n",
       "      <td>2RSSE.2</td>\n",
       "      <td>2.79648</td>\n",
       "      <td>27.746100</td>\n",
       "    </tr>\n",
       "    <tr>\n",
       "      <th>13351</th>\n",
       "      <td>4R79.2</td>\n",
       "      <td>7.41864</td>\n",
       "      <td>2.731750</td>\n",
       "    </tr>\n",
       "    <tr>\n",
       "      <th>13353</th>\n",
       "      <td>aagr-1</td>\n",
       "      <td>17.74960</td>\n",
       "      <td>1.499320</td>\n",
       "    </tr>\n",
       "  </tbody>\n",
       "</table>\n",
       "</div>"
      ],
      "text/plain": [
       "          gene   value_1    value_2\n",
       "13348   2L52.1  12.73480   0.195868\n",
       "13349  2RSSE.1  25.85350  60.047000\n",
       "13350  2RSSE.2   2.79648  27.746100\n",
       "13351   4R79.2   7.41864   2.731750\n",
       "13353   aagr-1  17.74960   1.499320"
      ]
     },
     "execution_count": 10,
     "metadata": {},
     "output_type": "execute_result"
    }
   ],
   "source": [
    "#peeking at smaller data\n",
    "smaller_data.head(5)"
   ]
  },
  {
   "cell_type": "code",
   "execution_count": 11,
   "metadata": {
    "collapsed": false
   },
   "outputs": [
    {
     "data": {
      "text/plain": [
       "gene         aagr-1\n",
       "sample_1        ref\n",
       "value_1     17.7496\n",
       "sample_2        NSM\n",
       "value_2     1.49932\n",
       "Name: 13353, dtype: object"
      ]
     },
     "execution_count": 11,
     "metadata": {},
     "output_type": "execute_result"
    }
   ],
   "source": [
    "#Making sure values didn't get shifted, v1 is with the right v2\n",
    "new_data.iloc[13353,0:]"
   ]
  },
  {
   "cell_type": "code",
   "execution_count": 13,
   "metadata": {
    "collapsed": false
   },
   "outputs": [
    {
     "ename": "TypeError",
     "evalue": "cannot convert the series to <class 'float'>",
     "output_type": "error",
     "traceback": [
      "\u001b[0;31m---------------------------------------------------------------------------\u001b[0m",
      "\u001b[0;31mTypeError\u001b[0m                                 Traceback (most recent call last)",
      "\u001b[0;32m<ipython-input-13-9fc9285d5202>\u001b[0m in \u001b[0;36m<module>\u001b[0;34m()\u001b[0m\n\u001b[1;32m      1\u001b[0m \u001b[0;31m#an attempt to make the log2 fold column. I am unsure what keyerror 2 means.\u001b[0m\u001b[0;34m\u001b[0m\u001b[0;34m\u001b[0m\u001b[0m\n\u001b[1;32m      2\u001b[0m \u001b[0;34m\u001b[0m\u001b[0m\n\u001b[0;32m----> 3\u001b[0;31m \u001b[0msmaller_data\u001b[0m\u001b[0;34m.\u001b[0m\u001b[0mix\u001b[0m\u001b[0;34m[\u001b[0m\u001b[0;34m:\u001b[0m\u001b[0;34m,\u001b[0m\u001b[0;36m4\u001b[0m\u001b[0;34m]\u001b[0m \u001b[0;34m=\u001b[0m \u001b[0mmath\u001b[0m\u001b[0;34m.\u001b[0m\u001b[0mlog\u001b[0m\u001b[0;34m(\u001b[0m\u001b[0msmaller_data\u001b[0m\u001b[0;34m.\u001b[0m\u001b[0mvalue_2\u001b[0m\u001b[0;34m)\u001b[0m \u001b[0;34m-\u001b[0m \u001b[0mmath\u001b[0m\u001b[0;34m.\u001b[0m\u001b[0mlog\u001b[0m\u001b[0;34m(\u001b[0m\u001b[0msmaller_data\u001b[0m\u001b[0;34m.\u001b[0m\u001b[0mvalue_1\u001b[0m\u001b[0;34m)\u001b[0m\u001b[0;34m\u001b[0m\u001b[0m\n\u001b[0m",
      "\u001b[0;32m/Users/andershornor/anaconda/lib/python3.4/site-packages/pandas/core/series.py\u001b[0m in \u001b[0;36mwrapper\u001b[0;34m(self)\u001b[0m\n\u001b[1;32m     78\u001b[0m             \u001b[0;32mreturn\u001b[0m \u001b[0mconverter\u001b[0m\u001b[0;34m(\u001b[0m\u001b[0mself\u001b[0m\u001b[0;34m.\u001b[0m\u001b[0miloc\u001b[0m\u001b[0;34m[\u001b[0m\u001b[0;36m0\u001b[0m\u001b[0;34m]\u001b[0m\u001b[0;34m)\u001b[0m\u001b[0;34m\u001b[0m\u001b[0m\n\u001b[1;32m     79\u001b[0m         raise TypeError(\n\u001b[0;32m---> 80\u001b[0;31m             \"cannot convert the series to {0}\".format(str(converter)))\n\u001b[0m\u001b[1;32m     81\u001b[0m     \u001b[0;32mreturn\u001b[0m \u001b[0mwrapper\u001b[0m\u001b[0;34m\u001b[0m\u001b[0m\n\u001b[1;32m     82\u001b[0m \u001b[0;34m\u001b[0m\u001b[0m\n",
      "\u001b[0;31mTypeError\u001b[0m: cannot convert the series to <class 'float'>"
     ]
    }
   ],
   "source": [
    "#an attempt to make the log2 fold column. I am unsure what keyerror 2 means.\n",
    "\n",
    "smaller_data.ix[:,4] = math.log(smaller_data.value_2) - math.log(smaller_data.value_1)\n",
    "\n",
    "#I think youre having a similar problem to miriuk that I believe Tiffany helped me out with. I think if you try: it m\n",
    "'''df = df.ix[:,\"number of columns you want to reindex\"]\n",
    "df.ix[:,\"Column you want to reindex as integer\"] = (df[\"Column title\"].str.extract(\"REGEx that will identify data in column\") + df[\"Column title\"].str.extract(\"REGEx that will identify data in column\").astype(\"float\")'''"
   ]
  },
  {
   "cell_type": "code",
   "execution_count": null,
   "metadata": {
    "collapsed": true
   },
   "outputs": [],
   "source": []
  }
 ],
 "metadata": {
  "kernelspec": {
   "display_name": "Python 3",
   "language": "python",
   "name": "python3"
  },
  "language_info": {
   "codemirror_mode": {
    "name": "ipython",
    "version": 3
   },
   "file_extension": ".py",
   "mimetype": "text/x-python",
   "name": "python",
   "nbconvert_exporter": "python",
   "pygments_lexer": "ipython3",
   "version": "3.4.3"
  }
 },
 "nbformat": 4,
 "nbformat_minor": 0
}
