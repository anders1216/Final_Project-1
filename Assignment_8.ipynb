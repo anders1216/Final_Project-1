{
 "cells": [
  {
   "cell_type": "code",
   "execution_count": 16,
   "metadata": {
    "collapsed": true
   },
   "outputs": [],
   "source": [
    "#making my import quotas\n",
    "import pandas as pd\n",
    "import re"
   ]
  },
  {
   "cell_type": "code",
   "execution_count": 17,
   "metadata": {
    "collapsed": true
   },
   "outputs": [],
   "source": [
    "#loading my data\n",
    "data = pd.read_csv('merged.dat')"
   ]
  },
  {
   "cell_type": "markdown",
   "metadata": {},
   "source": []
  },
  {
   "cell_type": "code",
   "execution_count": 18,
   "metadata": {
    "collapsed": false
   },
   "outputs": [
    {
     "data": {
      "text/html": [
       "<div>\n",
       "<table border=\"1\" class=\"dataframe\">\n",
       "  <thead>\n",
       "    <tr style=\"text-align: right;\">\n",
       "      <th></th>\n",
       "      <th>./data/20141118_131037/N2_4DayOld_4psi_CO2_a.00001.dat:15.028 0.00 1 234.9</th>\n",
       "    </tr>\n",
       "  </thead>\n",
       "  <tbody>\n",
       "    <tr>\n",
       "      <th>0</th>\n",
       "      <td>./data/20141118_131037/N2_4DayOld_4psi_CO2_a.0...</td>\n",
       "    </tr>\n",
       "    <tr>\n",
       "      <th>1</th>\n",
       "      <td>./data/20141118_131037/N2_4DayOld_4psi_CO2_a.0...</td>\n",
       "    </tr>\n",
       "    <tr>\n",
       "      <th>2</th>\n",
       "      <td>./data/20141118_131037/N2_4DayOld_4psi_CO2_a.0...</td>\n",
       "    </tr>\n",
       "    <tr>\n",
       "      <th>3</th>\n",
       "      <td>./data/20141118_131037/N2_4DayOld_4psi_CO2_a.0...</td>\n",
       "    </tr>\n",
       "    <tr>\n",
       "      <th>4</th>\n",
       "      <td>./data/20141118_131037/N2_4DayOld_4psi_CO2_a.0...</td>\n",
       "    </tr>\n",
       "  </tbody>\n",
       "</table>\n",
       "</div>"
      ],
      "text/plain": [
       "  ./data/20141118_131037/N2_4DayOld_4psi_CO2_a.00001.dat:15.028 0.00 1 234.9\n",
       "0  ./data/20141118_131037/N2_4DayOld_4psi_CO2_a.0...                        \n",
       "1  ./data/20141118_131037/N2_4DayOld_4psi_CO2_a.0...                        \n",
       "2  ./data/20141118_131037/N2_4DayOld_4psi_CO2_a.0...                        \n",
       "3  ./data/20141118_131037/N2_4DayOld_4psi_CO2_a.0...                        \n",
       "4  ./data/20141118_131037/N2_4DayOld_4psi_CO2_a.0...                        "
      ]
     },
     "execution_count": 18,
     "metadata": {},
     "output_type": "execute_result"
    }
   ],
   "source": [
    "data.head(5)\n"
   ]
  },
  {
   "cell_type": "markdown",
   "metadata": {},
   "source": [
    "The issue with this data appears to be the \"./\" at the start of each line. The re.sub method should be able to find and replace them with a blank space however."
   ]
  },
  {
   "cell_type": "code",
   "execution_count": 91,
   "metadata": {
    "collapsed": false
   },
   "outputs": [],
   "source": [
    "#isolating bits of data\n",
    "new_data = re.search('_(4DayOld)_(4psi)_(CO2_a|b).([1-9]*)', './data/20141118_131037/N2_4DayOld_4psi_CO2_a.00001.dat:15.028 0.00 1 234.9')\n"
   ]
  },
  {
   "cell_type": "code",
   "execution_count": 93,
   "metadata": {
    "collapsed": false
   },
   "outputs": [
    {
     "name": "stdout",
     "output_type": "stream",
     "text": [
      "4DayOld\n",
      "4psi\n",
      "CO2_a\n"
     ]
    }
   ],
   "source": [
    "print (new_data.group(1))\n",
    "print (new_data.group(2))\n",
    "print (new_data.group(3))"
   ]
  },
  {
   "cell_type": "code",
   "execution_count": 50,
   "metadata": {
    "collapsed": false
   },
   "outputs": [
    {
     "ename": "AttributeError",
     "evalue": "'NoneType' object has no attribute 'group'",
     "output_type": "error",
     "traceback": [
      "\u001b[1;31m---------------------------------------------------------------------------\u001b[0m",
      "\u001b[1;31mAttributeError\u001b[0m                            Traceback (most recent call last)",
      "\u001b[1;32m<ipython-input-50-8fbe1e2d07e5>\u001b[0m in \u001b[0;36m<module>\u001b[1;34m()\u001b[0m\n\u001b[1;32m----> 1\u001b[1;33m \u001b[0mprint\u001b[0m \u001b[1;33m(\u001b[0m\u001b[0mnew_data\u001b[0m\u001b[1;33m.\u001b[0m\u001b[0mgroup\u001b[0m\u001b[1;33m(\u001b[0m\u001b[1;36m1\u001b[0m\u001b[1;33m)\u001b[0m\u001b[1;33m)\u001b[0m\u001b[1;33m\u001b[0m\u001b[0m\n\u001b[0m",
      "\u001b[1;31mAttributeError\u001b[0m: 'NoneType' object has no attribute 'group'"
     ]
    }
   ],
   "source": [
    "#thought about making a function but didn't\n",
    "def fix_data(data):\n",
    "    '''A function to take the data out of a file format with one column '''\n",
    "    m = re.search('')"
   ]
  },
  {
   "cell_type": "code",
   "execution_count": 97,
   "metadata": {
    "collapsed": false
   },
   "outputs": [],
   "source": [
    "#another dead end\n",
    "for line in data:\n",
    "    re.sub('./',line,' ')"
   ]
  },
  {
   "cell_type": "code",
   "execution_count": 98,
   "metadata": {
    "collapsed": false
   },
   "outputs": [
    {
     "data": {
      "text/html": [
       "<div>\n",
       "<table border=\"1\" class=\"dataframe\">\n",
       "  <thead>\n",
       "    <tr style=\"text-align: right;\">\n",
       "      <th></th>\n",
       "      <th>./data/20141118_131037/N2_4DayOld_4psi_CO2_a.00001.dat:15.028 0.00 1 234.9</th>\n",
       "    </tr>\n",
       "  </thead>\n",
       "  <tbody>\n",
       "    <tr>\n",
       "      <th>0</th>\n",
       "      <td>./data/20141118_131037/N2_4DayOld_4psi_CO2_a.0...</td>\n",
       "    </tr>\n",
       "    <tr>\n",
       "      <th>1</th>\n",
       "      <td>./data/20141118_131037/N2_4DayOld_4psi_CO2_a.0...</td>\n",
       "    </tr>\n",
       "    <tr>\n",
       "      <th>2</th>\n",
       "      <td>./data/20141118_131037/N2_4DayOld_4psi_CO2_a.0...</td>\n",
       "    </tr>\n",
       "    <tr>\n",
       "      <th>3</th>\n",
       "      <td>./data/20141118_131037/N2_4DayOld_4psi_CO2_a.0...</td>\n",
       "    </tr>\n",
       "    <tr>\n",
       "      <th>4</th>\n",
       "      <td>./data/20141118_131037/N2_4DayOld_4psi_CO2_a.0...</td>\n",
       "    </tr>\n",
       "  </tbody>\n",
       "</table>\n",
       "</div>"
      ],
      "text/plain": [
       "  ./data/20141118_131037/N2_4DayOld_4psi_CO2_a.00001.dat:15.028 0.00 1 234.9\n",
       "0  ./data/20141118_131037/N2_4DayOld_4psi_CO2_a.0...                        \n",
       "1  ./data/20141118_131037/N2_4DayOld_4psi_CO2_a.0...                        \n",
       "2  ./data/20141118_131037/N2_4DayOld_4psi_CO2_a.0...                        \n",
       "3  ./data/20141118_131037/N2_4DayOld_4psi_CO2_a.0...                        \n",
       "4  ./data/20141118_131037/N2_4DayOld_4psi_CO2_a.0...                        "
      ]
     },
     "execution_count": 98,
     "metadata": {},
     "output_type": "execute_result"
    }
   ],
   "source": [
    "data.head(5)"
   ]
  },
  {
   "cell_type": "code",
   "execution_count": 168,
   "metadata": {
    "collapsed": false
   },
   "outputs": [],
   "source": [
    "#gave up on this one too\n",
    "for line in data:\n",
    "    new_data = re.sub('./',' \\n',line)"
   ]
  },
  {
   "cell_type": "code",
   "execution_count": 180,
   "metadata": {
    "collapsed": false
   },
   "outputs": [],
   "source": [
    "#stackoverflow gave me this outfile idea\n",
    "outfile = open('test.txt','a')\n",
    "for line in data:\n",
    "#find ./ and replace it with ' '\n",
    "    outfile.write(re.sub(',/','  ',line))\n",
    "    \n",
    "outfile.close()"
   ]
  },
  {
   "cell_type": "code",
   "execution_count": 181,
   "metadata": {
    "collapsed": false
   },
   "outputs": [
    {
     "name": "stdout",
     "output_type": "stream",
     "text": [
      " dat 20141118_13103 N2_4DayOld_4psi_CO2_a.00001.dat:15.028 0.00 1 234.9 dat 20141118_13103 N2_4DayOld_4psi_CO2_a.00001.dat:15.028 0.00 1 234.9 dat 20141118_13103 N2_4DayOld_4psi_CO2_a.00001.dat:15.028 0.00 1 234.9 dat 20141118_13103 N2_4DayOld_4psi_CO2_a.00001.dat:15.028 0.00 1 234.9 dat 20141118_13103 N2_4DayOld_4psi_CO2_a.00001.dat:15.028 0.00 1 234.9 dat 20141118_13103 N2_4DayOld_4psi_CO2_a.00001.dat:15.028 0.00 1 234.9 dat 20141118_13103 N2_4DayOld_4psi_CO2_a.00001.dat:15.028 0.00 1 234.9 dat 20141118_13103 N2_4DayOld_4psi_CO2_a.00001.dat:15.028 0.00 1 234.9 dat 20141118_13103 N2_4DayOld_4psi_CO2_a.00001.dat:15.028 0.00 1 234.9 dat 20141118_13103 N2_4DayOld_4psi_CO2_a.00001.dat:15.028 0.00 1 234.9 dat 20141118_13103 N2_4DayOld_4psi_CO2_a.00001.dat:15.028 0.00 1 234.9 dat 20141118_13103 N2_4DayOld_4psi_CO2_a.00001.dat:15.028 0.00 1 234.9 dat 20141118_13103 N2_4DayOld_4psi_CO2_a.00001.dat:15.028 0.00 1 234.9 dat 20141118_13103 N2_4DayOld_4psi_CO2_a.00001.dat:15.028 0.00 1 234.9 dat 20141118_13103 N2_4DayOld_4psi_CO2_a.00001.dat:15.028 0.00 1 234.9 dat 20141118_13103 N2_4DayOld_4psi_CO2_a.00001.dat:15.028 0.00 1 234.9\n"
     ]
    }
   ],
   "source": [
    "#peeking at the file\n",
    "with open(\"test.txt\") as text_file:\n",
    "    contents = text_file.read()\n",
    "print(contents)"
   ]
  },
  {
   "cell_type": "code",
   "execution_count": 182,
   "metadata": {
    "collapsed": false
   },
   "outputs": [
    {
     "data": {
      "text/html": [
       "<div>\n",
       "<table border=\"1\" class=\"dataframe\">\n",
       "  <thead>\n",
       "    <tr style=\"text-align: right;\">\n",
       "      <th></th>\n",
       "      <th>dat 20141118_13103 N2_4DayOld_4psi_CO2_a.00001.dat:15.028 0.00 1 234.9 dat 20141118_13103 N2_4DayOld_4psi_CO2_a.00001.dat:15.028 0.00 1 234.9 dat 20141118_13103 N2_4DayOld_4psi_CO2_a.00001.dat:15.028 0.00 1 234.9 dat 20141118_13103 N2_4DayOld_4psi_CO2_a.00001.dat:15.028 0.00 1 234.9 dat 20141118_13103 N2_4DayOld_4psi_CO2_a.00001.dat:15.028 0.00 1 234.9 dat 20141118_13103 N2_4DayOld_4psi_CO2_a.00001.dat:15.028 0.00 1 234.9 dat 20141118_13103 N2_4DayOld_4psi_CO2_a.00001.dat:15.028 0.00 1 234.9 dat 20141118_13103 N2_4DayOld_4psi_CO2_a.00001.dat:15.028 0.00 1 234.9 dat 20141118_13103 N2_4DayOld_4psi_CO2_a.00001.dat:15.028 0.00 1 234.9 dat 20141118_13103 N2_4DayOld_4psi_CO2_a.00001.dat:15.028 0.00 1 234.9 dat 20141118_13103 N2_4DayOld_4psi_CO2_a.00001.dat:15.028 0.00 1 234.9 dat 20141118_13103 N2_4DayOld_4psi_CO2_a.00001.dat:15.028 0.00 1 234.9 dat 20141118_13103 N2_4DayOld_4psi_CO2_a.00001.dat:15.028 0.00 1 234.9 dat 20141118_13103 N2_4DayOld_4psi_CO2_a.00001.dat:15.028 0.00 1 234.9 dat 20141118_13103 N2_4DayOld_4psi_CO2_a.00001.dat:15.028 0.00 1 234.9 dat 20141118_13103 N2_4DayOld_4psi_CO2_a.00001.dat:15.028 0.00 1 234.9</th>\n",
       "    </tr>\n",
       "  </thead>\n",
       "  <tbody>\n",
       "  </tbody>\n",
       "</table>\n",
       "</div>"
      ],
      "text/plain": [
       "Empty DataFrame\n",
       "Columns: [ dat 20141118_13103 N2_4DayOld_4psi_CO2_a.00001.dat:15.028 0.00 1 234.9 dat 20141118_13103 N2_4DayOld_4psi_CO2_a.00001.dat:15.028 0.00 1 234.9 dat 20141118_13103 N2_4DayOld_4psi_CO2_a.00001.dat:15.028 0.00 1 234.9 dat 20141118_13103 N2_4DayOld_4psi_CO2_a.00001.dat:15.028 0.00 1 234.9 dat 20141118_13103 N2_4DayOld_4psi_CO2_a.00001.dat:15.028 0.00 1 234.9 dat 20141118_13103 N2_4DayOld_4psi_CO2_a.00001.dat:15.028 0.00 1 234.9 dat 20141118_13103 N2_4DayOld_4psi_CO2_a.00001.dat:15.028 0.00 1 234.9 dat 20141118_13103 N2_4DayOld_4psi_CO2_a.00001.dat:15.028 0.00 1 234.9 dat 20141118_13103 N2_4DayOld_4psi_CO2_a.00001.dat:15.028 0.00 1 234.9 dat 20141118_13103 N2_4DayOld_4psi_CO2_a.00001.dat:15.028 0.00 1 234.9 dat 20141118_13103 N2_4DayOld_4psi_CO2_a.00001.dat:15.028 0.00 1 234.9 dat 20141118_13103 N2_4DayOld_4psi_CO2_a.00001.dat:15.028 0.00 1 234.9 dat 20141118_13103 N2_4DayOld_4psi_CO2_a.00001.dat:15.028 0.00 1 234.9 dat 20141118_13103 N2_4DayOld_4psi_CO2_a.00001.dat:15.028 0.00 1 234.9 dat 20141118_13103 N2_4DayOld_4psi_CO2_a.00001.dat:15.028 0.00 1 234.9 dat 20141118_13103 N2_4DayOld_4psi_CO2_a.00001.dat:15.028 0.00 1 234.9]\n",
       "Index: []"
      ]
     },
     "execution_count": 182,
     "metadata": {},
     "output_type": "execute_result"
    }
   ],
   "source": [
    "#opening it with Pandas\n",
    "pd.read_csv('test.txt')"
   ]
  },
  {
   "cell_type": "code",
   "execution_count": null,
   "metadata": {
    "collapsed": true
   },
   "outputs": [],
   "source": []
  }
 ],
 "metadata": {
  "kernelspec": {
   "display_name": "Python 3",
   "language": "python",
   "name": "python3"
  },
  "language_info": {
   "codemirror_mode": {
    "name": "ipython",
    "version": 3
   },
   "file_extension": ".py",
   "mimetype": "text/x-python",
   "name": "python",
   "nbconvert_exporter": "python",
   "pygments_lexer": "ipython3",
   "version": "3.4.3"
  }
 },
 "nbformat": 4,
 "nbformat_minor": 0
}
