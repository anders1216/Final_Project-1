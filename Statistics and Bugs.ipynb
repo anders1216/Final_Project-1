{
 "cells": [
  {
   "cell_type": "code",
   "execution_count": 2,
   "metadata": {
    "collapsed": true
   },
   "outputs": [],
   "source": [
    "#importing libraries\n",
    "import pandas as pd\n",
    "import matplotlib.pyplot as plt\n",
    "import numpy as np\n",
    "\n",
    "#stats libraries\n",
    "import statsmodels.api as sm\n",
    "import scipy\n",
    "\n",
    "%matplotlib inline"
   ]
  },
  {
   "cell_type": "code",
   "execution_count": 3,
   "metadata": {
    "collapsed": true
   },
   "outputs": [],
   "source": [
    "#importing data\n",
    "locomotion_data = pd.read_csv('worm_basal_locomotion.dat', sep='\\s+',index_col='time')"
   ]
  },
  {
   "cell_type": "code",
   "execution_count": 4,
   "metadata": {
    "collapsed": false
   },
   "outputs": [
    {
     "data": {
      "text/html": [
       "<div>\n",
       "<table border=\"1\" class=\"dataframe\">\n",
       "  <thead>\n",
       "    <tr style=\"text-align: right;\">\n",
       "      <th></th>\n",
       "      <th>date</th>\n",
       "      <th>plate</th>\n",
       "      <th>strain</th>\n",
       "      <th>frame</th>\n",
       "      <th>ID</th>\n",
       "      <th>persistance</th>\n",
       "      <th>area</th>\n",
       "      <th>speed</th>\n",
       "      <th>angularspeed</th>\n",
       "      <th>length</th>\n",
       "      <th>...</th>\n",
       "      <th>loc_x</th>\n",
       "      <th>loc_y</th>\n",
       "      <th>vel_x</th>\n",
       "      <th>vel_y</th>\n",
       "      <th>orient</th>\n",
       "      <th>crab</th>\n",
       "      <th>NA</th>\n",
       "      <th>NA.1</th>\n",
       "      <th>NA.2</th>\n",
       "      <th>NA.3</th>\n",
       "    </tr>\n",
       "    <tr>\n",
       "      <th>time</th>\n",
       "      <th></th>\n",
       "      <th></th>\n",
       "      <th></th>\n",
       "      <th></th>\n",
       "      <th></th>\n",
       "      <th></th>\n",
       "      <th></th>\n",
       "      <th></th>\n",
       "      <th></th>\n",
       "      <th></th>\n",
       "      <th></th>\n",
       "      <th></th>\n",
       "      <th></th>\n",
       "      <th></th>\n",
       "      <th></th>\n",
       "      <th></th>\n",
       "      <th></th>\n",
       "      <th></th>\n",
       "      <th></th>\n",
       "      <th></th>\n",
       "      <th></th>\n",
       "    </tr>\n",
       "  </thead>\n",
       "  <tbody>\n",
       "    <tr>\n",
       "      <th>5.079</th>\n",
       "      <td>NaN</td>\n",
       "      <td>NaN</td>\n",
       "      <td>N2</td>\n",
       "      <td>126</td>\n",
       "      <td>1</td>\n",
       "      <td>44.9</td>\n",
       "      <td>0.118827</td>\n",
       "      <td>NaN</td>\n",
       "      <td>NaN</td>\n",
       "      <td>0.6912</td>\n",
       "      <td>...</td>\n",
       "      <td>5.2853</td>\n",
       "      <td>25.2352</td>\n",
       "      <td>NaN</td>\n",
       "      <td>NaN</td>\n",
       "      <td>144.9</td>\n",
       "      <td>NaN</td>\n",
       "      <td>0</td>\n",
       "      <td>0</td>\n",
       "      <td>0</td>\n",
       "      <td>0</td>\n",
       "    </tr>\n",
       "    <tr>\n",
       "      <th>5.123</th>\n",
       "      <td>NaN</td>\n",
       "      <td>NaN</td>\n",
       "      <td>N2</td>\n",
       "      <td>127</td>\n",
       "      <td>1</td>\n",
       "      <td>44.9</td>\n",
       "      <td>0.118827</td>\n",
       "      <td>NaN</td>\n",
       "      <td>NaN</td>\n",
       "      <td>0.6912</td>\n",
       "      <td>...</td>\n",
       "      <td>5.2813</td>\n",
       "      <td>25.2391</td>\n",
       "      <td>NaN</td>\n",
       "      <td>NaN</td>\n",
       "      <td>145.1</td>\n",
       "      <td>NaN</td>\n",
       "      <td>0</td>\n",
       "      <td>0</td>\n",
       "      <td>0</td>\n",
       "      <td>0</td>\n",
       "    </tr>\n",
       "    <tr>\n",
       "      <th>5.163</th>\n",
       "      <td>NaN</td>\n",
       "      <td>NaN</td>\n",
       "      <td>N2</td>\n",
       "      <td>128</td>\n",
       "      <td>1</td>\n",
       "      <td>44.9</td>\n",
       "      <td>0.117369</td>\n",
       "      <td>NaN</td>\n",
       "      <td>NaN</td>\n",
       "      <td>0.6750</td>\n",
       "      <td>...</td>\n",
       "      <td>5.2762</td>\n",
       "      <td>25.2438</td>\n",
       "      <td>NaN</td>\n",
       "      <td>NaN</td>\n",
       "      <td>144.9</td>\n",
       "      <td>NaN</td>\n",
       "      <td>0</td>\n",
       "      <td>0</td>\n",
       "      <td>0</td>\n",
       "      <td>0</td>\n",
       "    </tr>\n",
       "    <tr>\n",
       "      <th>5.209</th>\n",
       "      <td>NaN</td>\n",
       "      <td>NaN</td>\n",
       "      <td>N2</td>\n",
       "      <td>129</td>\n",
       "      <td>1</td>\n",
       "      <td>44.9</td>\n",
       "      <td>0.115182</td>\n",
       "      <td>NaN</td>\n",
       "      <td>NaN</td>\n",
       "      <td>0.6912</td>\n",
       "      <td>...</td>\n",
       "      <td>5.2728</td>\n",
       "      <td>25.2467</td>\n",
       "      <td>NaN</td>\n",
       "      <td>NaN</td>\n",
       "      <td>145.0</td>\n",
       "      <td>NaN</td>\n",
       "      <td>0</td>\n",
       "      <td>0</td>\n",
       "      <td>0</td>\n",
       "      <td>0</td>\n",
       "    </tr>\n",
       "    <tr>\n",
       "      <th>5.242</th>\n",
       "      <td>NaN</td>\n",
       "      <td>NaN</td>\n",
       "      <td>N2</td>\n",
       "      <td>130</td>\n",
       "      <td>1</td>\n",
       "      <td>44.9</td>\n",
       "      <td>0.113724</td>\n",
       "      <td>NaN</td>\n",
       "      <td>NaN</td>\n",
       "      <td>0.6912</td>\n",
       "      <td>...</td>\n",
       "      <td>5.2677</td>\n",
       "      <td>25.2514</td>\n",
       "      <td>NaN</td>\n",
       "      <td>NaN</td>\n",
       "      <td>144.7</td>\n",
       "      <td>NaN</td>\n",
       "      <td>0</td>\n",
       "      <td>0</td>\n",
       "      <td>0</td>\n",
       "      <td>0</td>\n",
       "    </tr>\n",
       "  </tbody>\n",
       "</table>\n",
       "<p>5 rows × 32 columns</p>\n",
       "</div>"
      ],
      "text/plain": [
       "       date  plate strain  frame  ID  persistance      area  speed  \\\n",
       "time                                                                 \n",
       "5.079   NaN    NaN     N2    126   1         44.9  0.118827    NaN   \n",
       "5.123   NaN    NaN     N2    127   1         44.9  0.118827    NaN   \n",
       "5.163   NaN    NaN     N2    128   1         44.9  0.117369    NaN   \n",
       "5.209   NaN    NaN     N2    129   1         44.9  0.115182    NaN   \n",
       "5.242   NaN    NaN     N2    130   1         44.9  0.113724    NaN   \n",
       "\n",
       "       angularspeed  length  ...    loc_x    loc_y  vel_x  vel_y  orient  \\\n",
       "time                         ...                                           \n",
       "5.079           NaN  0.6912  ...   5.2853  25.2352    NaN    NaN   144.9   \n",
       "5.123           NaN  0.6912  ...   5.2813  25.2391    NaN    NaN   145.1   \n",
       "5.163           NaN  0.6750  ...   5.2762  25.2438    NaN    NaN   144.9   \n",
       "5.209           NaN  0.6912  ...   5.2728  25.2467    NaN    NaN   145.0   \n",
       "5.242           NaN  0.6912  ...   5.2677  25.2514    NaN    NaN   144.7   \n",
       "\n",
       "       crab  NA  NA.1  NA.2  NA.3  \n",
       "time                               \n",
       "5.079   NaN   0     0     0     0  \n",
       "5.123   NaN   0     0     0     0  \n",
       "5.163   NaN   0     0     0     0  \n",
       "5.209   NaN   0     0     0     0  \n",
       "5.242   NaN   0     0     0     0  \n",
       "\n",
       "[5 rows x 32 columns]"
      ]
     },
     "execution_count": 4,
     "metadata": {},
     "output_type": "execute_result"
    }
   ],
   "source": [
    "locomotion_data.head(5)"
   ]
  },
  {
   "cell_type": "code",
   "execution_count": 5,
   "metadata": {
    "collapsed": false
   },
   "outputs": [
    {
     "data": {
      "text/html": [
       "<div>\n",
       "<table border=\"1\" class=\"dataframe\">\n",
       "  <thead>\n",
       "    <tr style=\"text-align: right;\">\n",
       "      <th></th>\n",
       "      <th>ID</th>\n",
       "      <th>speed</th>\n",
       "    </tr>\n",
       "    <tr>\n",
       "      <th>time</th>\n",
       "      <th></th>\n",
       "      <th></th>\n",
       "    </tr>\n",
       "  </thead>\n",
       "  <tbody>\n",
       "    <tr>\n",
       "      <th>5.079</th>\n",
       "      <td>1</td>\n",
       "      <td>NaN</td>\n",
       "    </tr>\n",
       "    <tr>\n",
       "      <th>5.123</th>\n",
       "      <td>1</td>\n",
       "      <td>NaN</td>\n",
       "    </tr>\n",
       "    <tr>\n",
       "      <th>5.163</th>\n",
       "      <td>1</td>\n",
       "      <td>NaN</td>\n",
       "    </tr>\n",
       "    <tr>\n",
       "      <th>5.209</th>\n",
       "      <td>1</td>\n",
       "      <td>NaN</td>\n",
       "    </tr>\n",
       "    <tr>\n",
       "      <th>5.242</th>\n",
       "      <td>1</td>\n",
       "      <td>NaN</td>\n",
       "    </tr>\n",
       "  </tbody>\n",
       "</table>\n",
       "</div>"
      ],
      "text/plain": [
       "       ID  speed\n",
       "time            \n",
       "5.079   1    NaN\n",
       "5.123   1    NaN\n",
       "5.163   1    NaN\n",
       "5.209   1    NaN\n",
       "5.242   1    NaN"
      ]
     },
     "execution_count": 5,
     "metadata": {},
     "output_type": "execute_result"
    }
   ],
   "source": [
    "#making smaller data set\n",
    "speed_df= locomotion_data[['ID','speed']]\n",
    "speed_df.head(5)"
   ]
  },
  {
   "cell_type": "code",
   "execution_count": 6,
   "metadata": {
    "collapsed": false
   },
   "outputs": [
    {
     "data": {
      "text/html": [
       "<div>\n",
       "<table border=\"1\" class=\"dataframe\">\n",
       "  <thead>\n",
       "    <tr style=\"text-align: right;\">\n",
       "      <th></th>\n",
       "      <th>ID</th>\n",
       "      <th>speed</th>\n",
       "    </tr>\n",
       "    <tr>\n",
       "      <th>time</th>\n",
       "      <th></th>\n",
       "      <th></th>\n",
       "    </tr>\n",
       "  </thead>\n",
       "  <tbody>\n",
       "    <tr>\n",
       "      <th>5.363</th>\n",
       "      <td>1</td>\n",
       "      <td>0.1922</td>\n",
       "    </tr>\n",
       "    <tr>\n",
       "      <th>5.403</th>\n",
       "      <td>1</td>\n",
       "      <td>0.1892</td>\n",
       "    </tr>\n",
       "    <tr>\n",
       "      <th>5.443</th>\n",
       "      <td>1</td>\n",
       "      <td>0.1932</td>\n",
       "    </tr>\n",
       "    <tr>\n",
       "      <th>5.483</th>\n",
       "      <td>1</td>\n",
       "      <td>0.1919</td>\n",
       "    </tr>\n",
       "    <tr>\n",
       "      <th>5.524</th>\n",
       "      <td>1</td>\n",
       "      <td>0.1866</td>\n",
       "    </tr>\n",
       "  </tbody>\n",
       "</table>\n",
       "</div>"
      ],
      "text/plain": [
       "       ID   speed\n",
       "time             \n",
       "5.363   1  0.1922\n",
       "5.403   1  0.1892\n",
       "5.443   1  0.1932\n",
       "5.483   1  0.1919\n",
       "5.524   1  0.1866"
      ]
     },
     "execution_count": 6,
     "metadata": {},
     "output_type": "execute_result"
    }
   ],
   "source": [
    "speed_df = speed_df.dropna()\n",
    "speed_df.head(5)"
   ]
  },
  {
   "cell_type": "code",
   "execution_count": 7,
   "metadata": {
    "collapsed": false
   },
   "outputs": [
    {
     "data": {
      "text/html": [
       "<div>\n",
       "<table border=\"1\" class=\"dataframe\">\n",
       "  <thead>\n",
       "    <tr style=\"text-align: right;\">\n",
       "      <th></th>\n",
       "      <th>ID</th>\n",
       "      <th>speed</th>\n",
       "    </tr>\n",
       "  </thead>\n",
       "  <tbody>\n",
       "    <tr>\n",
       "      <th>1970-01-01 00:00:05.363</th>\n",
       "      <td>1</td>\n",
       "      <td>0.1922</td>\n",
       "    </tr>\n",
       "    <tr>\n",
       "      <th>1970-01-01 00:00:05.403</th>\n",
       "      <td>1</td>\n",
       "      <td>0.1892</td>\n",
       "    </tr>\n",
       "    <tr>\n",
       "      <th>1970-01-01 00:00:05.443</th>\n",
       "      <td>1</td>\n",
       "      <td>0.1932</td>\n",
       "    </tr>\n",
       "    <tr>\n",
       "      <th>1970-01-01 00:00:05.483</th>\n",
       "      <td>1</td>\n",
       "      <td>0.1919</td>\n",
       "    </tr>\n",
       "    <tr>\n",
       "      <th>1970-01-01 00:00:05.524</th>\n",
       "      <td>1</td>\n",
       "      <td>0.1866</td>\n",
       "    </tr>\n",
       "  </tbody>\n",
       "</table>\n",
       "</div>"
      ],
      "text/plain": [
       "                         ID   speed\n",
       "1970-01-01 00:00:05.363   1  0.1922\n",
       "1970-01-01 00:00:05.403   1  0.1892\n",
       "1970-01-01 00:00:05.443   1  0.1932\n",
       "1970-01-01 00:00:05.483   1  0.1919\n",
       "1970-01-01 00:00:05.524   1  0.1866"
      ]
     },
     "execution_count": 7,
     "metadata": {},
     "output_type": "execute_result"
    }
   ],
   "source": [
    "speed_df.index = pd.to_datetime(speed_df.index, unit='s')\n",
    "speed_df.head(5)"
   ]
  },
  {
   "cell_type": "code",
   "execution_count": 8,
   "metadata": {
    "collapsed": false
   },
   "outputs": [
    {
     "data": {
      "text/html": [
       "<div>\n",
       "<table border=\"1\" class=\"dataframe\">\n",
       "  <thead>\n",
       "    <tr style=\"text-align: right;\">\n",
       "      <th></th>\n",
       "      <th></th>\n",
       "      <th>speed</th>\n",
       "    </tr>\n",
       "    <tr>\n",
       "      <th>ID</th>\n",
       "      <th></th>\n",
       "      <th></th>\n",
       "    </tr>\n",
       "  </thead>\n",
       "  <tbody>\n",
       "    <tr>\n",
       "      <th rowspan=\"5\" valign=\"top\">1</th>\n",
       "      <th>1970-01-01 00:00:00</th>\n",
       "      <td>0.198754</td>\n",
       "    </tr>\n",
       "    <tr>\n",
       "      <th>1970-01-01 00:00:10</th>\n",
       "      <td>0.182466</td>\n",
       "    </tr>\n",
       "    <tr>\n",
       "      <th>1970-01-01 00:00:20</th>\n",
       "      <td>0.107933</td>\n",
       "    </tr>\n",
       "    <tr>\n",
       "      <th>1970-01-01 00:00:30</th>\n",
       "      <td>0.216202</td>\n",
       "    </tr>\n",
       "    <tr>\n",
       "      <th>1970-01-01 00:00:40</th>\n",
       "      <td>0.242328</td>\n",
       "    </tr>\n",
       "    <tr>\n",
       "      <th rowspan=\"6\" valign=\"top\">4</th>\n",
       "      <th>1970-01-01 00:00:00</th>\n",
       "      <td>0.179244</td>\n",
       "    </tr>\n",
       "    <tr>\n",
       "      <th>1970-01-01 00:00:10</th>\n",
       "      <td>0.174174</td>\n",
       "    </tr>\n",
       "    <tr>\n",
       "      <th>1970-01-01 00:00:20</th>\n",
       "      <td>0.197735</td>\n",
       "    </tr>\n",
       "    <tr>\n",
       "      <th>1970-01-01 00:00:30</th>\n",
       "      <td>0.223789</td>\n",
       "    </tr>\n",
       "    <tr>\n",
       "      <th>1970-01-01 00:00:40</th>\n",
       "      <td>0.189563</td>\n",
       "    </tr>\n",
       "    <tr>\n",
       "      <th>1970-01-01 00:00:50</th>\n",
       "      <td>0.267708</td>\n",
       "    </tr>\n",
       "    <tr>\n",
       "      <th rowspan=\"19\" valign=\"top\">5</th>\n",
       "      <th>1970-01-01 00:00:00</th>\n",
       "      <td>0.130003</td>\n",
       "    </tr>\n",
       "    <tr>\n",
       "      <th>1970-01-01 00:00:10</th>\n",
       "      <td>0.173761</td>\n",
       "    </tr>\n",
       "    <tr>\n",
       "      <th>1970-01-01 00:00:20</th>\n",
       "      <td>0.175286</td>\n",
       "    </tr>\n",
       "    <tr>\n",
       "      <th>1970-01-01 00:00:30</th>\n",
       "      <td>0.090638</td>\n",
       "    </tr>\n",
       "    <tr>\n",
       "      <th>1970-01-01 00:00:40</th>\n",
       "      <td>0.171291</td>\n",
       "    </tr>\n",
       "    <tr>\n",
       "      <th>1970-01-01 00:00:50</th>\n",
       "      <td>0.170006</td>\n",
       "    </tr>\n",
       "    <tr>\n",
       "      <th>1970-01-01 00:01:00</th>\n",
       "      <td>0.192885</td>\n",
       "    </tr>\n",
       "    <tr>\n",
       "      <th>1970-01-01 00:01:10</th>\n",
       "      <td>0.213570</td>\n",
       "    </tr>\n",
       "    <tr>\n",
       "      <th>1970-01-01 00:01:20</th>\n",
       "      <td>0.206213</td>\n",
       "    </tr>\n",
       "    <tr>\n",
       "      <th>1970-01-01 00:01:30</th>\n",
       "      <td>0.237992</td>\n",
       "    </tr>\n",
       "    <tr>\n",
       "      <th>1970-01-01 00:01:40</th>\n",
       "      <td>0.184528</td>\n",
       "    </tr>\n",
       "    <tr>\n",
       "      <th>1970-01-01 00:01:50</th>\n",
       "      <td>0.173528</td>\n",
       "    </tr>\n",
       "    <tr>\n",
       "      <th>1970-01-01 00:02:00</th>\n",
       "      <td>0.077084</td>\n",
       "    </tr>\n",
       "    <tr>\n",
       "      <th>1970-01-01 00:02:10</th>\n",
       "      <td>0.135133</td>\n",
       "    </tr>\n",
       "    <tr>\n",
       "      <th>1970-01-01 00:02:20</th>\n",
       "      <td>0.094113</td>\n",
       "    </tr>\n",
       "    <tr>\n",
       "      <th>1970-01-01 00:02:30</th>\n",
       "      <td>0.044333</td>\n",
       "    </tr>\n",
       "    <tr>\n",
       "      <th>1970-01-01 00:02:40</th>\n",
       "      <td>0.037018</td>\n",
       "    </tr>\n",
       "    <tr>\n",
       "      <th>1970-01-01 00:02:50</th>\n",
       "      <td>0.038547</td>\n",
       "    </tr>\n",
       "    <tr>\n",
       "      <th>1970-01-01 00:03:00</th>\n",
       "      <td>0.032183</td>\n",
       "    </tr>\n",
       "    <tr>\n",
       "      <th>...</th>\n",
       "      <th>...</th>\n",
       "      <td>...</td>\n",
       "    </tr>\n",
       "    <tr>\n",
       "      <th rowspan=\"15\" valign=\"top\">324</th>\n",
       "      <th>1970-01-01 00:07:30</th>\n",
       "      <td>0.164127</td>\n",
       "    </tr>\n",
       "    <tr>\n",
       "      <th>1970-01-01 00:07:40</th>\n",
       "      <td>0.187863</td>\n",
       "    </tr>\n",
       "    <tr>\n",
       "      <th>1970-01-01 00:07:50</th>\n",
       "      <td>0.171447</td>\n",
       "    </tr>\n",
       "    <tr>\n",
       "      <th>1970-01-01 00:08:00</th>\n",
       "      <td>0.171187</td>\n",
       "    </tr>\n",
       "    <tr>\n",
       "      <th>1970-01-01 00:08:10</th>\n",
       "      <td>0.142347</td>\n",
       "    </tr>\n",
       "    <tr>\n",
       "      <th>1970-01-01 00:08:20</th>\n",
       "      <td>0.178724</td>\n",
       "    </tr>\n",
       "    <tr>\n",
       "      <th>1970-01-01 00:08:30</th>\n",
       "      <td>0.151885</td>\n",
       "    </tr>\n",
       "    <tr>\n",
       "      <th>1970-01-01 00:08:40</th>\n",
       "      <td>0.101055</td>\n",
       "    </tr>\n",
       "    <tr>\n",
       "      <th>1970-01-01 00:08:50</th>\n",
       "      <td>0.110602</td>\n",
       "    </tr>\n",
       "    <tr>\n",
       "      <th>1970-01-01 00:09:00</th>\n",
       "      <td>0.090933</td>\n",
       "    </tr>\n",
       "    <tr>\n",
       "      <th>1970-01-01 00:09:10</th>\n",
       "      <td>0.092290</td>\n",
       "    </tr>\n",
       "    <tr>\n",
       "      <th>1970-01-01 00:09:20</th>\n",
       "      <td>0.112751</td>\n",
       "    </tr>\n",
       "    <tr>\n",
       "      <th>1970-01-01 00:09:30</th>\n",
       "      <td>0.077627</td>\n",
       "    </tr>\n",
       "    <tr>\n",
       "      <th>1970-01-01 00:09:40</th>\n",
       "      <td>0.063054</td>\n",
       "    </tr>\n",
       "    <tr>\n",
       "      <th>1970-01-01 00:09:50</th>\n",
       "      <td>0.021543</td>\n",
       "    </tr>\n",
       "    <tr>\n",
       "      <th rowspan=\"15\" valign=\"top\">410</th>\n",
       "      <th>1970-01-01 00:07:30</th>\n",
       "      <td>0.206721</td>\n",
       "    </tr>\n",
       "    <tr>\n",
       "      <th>1970-01-01 00:07:40</th>\n",
       "      <td>0.191637</td>\n",
       "    </tr>\n",
       "    <tr>\n",
       "      <th>1970-01-01 00:07:50</th>\n",
       "      <td>0.137978</td>\n",
       "    </tr>\n",
       "    <tr>\n",
       "      <th>1970-01-01 00:08:00</th>\n",
       "      <td>0.066882</td>\n",
       "    </tr>\n",
       "    <tr>\n",
       "      <th>1970-01-01 00:08:10</th>\n",
       "      <td>0.073763</td>\n",
       "    </tr>\n",
       "    <tr>\n",
       "      <th>1970-01-01 00:08:20</th>\n",
       "      <td>0.031894</td>\n",
       "    </tr>\n",
       "    <tr>\n",
       "      <th>1970-01-01 00:08:30</th>\n",
       "      <td>0.063821</td>\n",
       "    </tr>\n",
       "    <tr>\n",
       "      <th>1970-01-01 00:08:40</th>\n",
       "      <td>0.030660</td>\n",
       "    </tr>\n",
       "    <tr>\n",
       "      <th>1970-01-01 00:08:50</th>\n",
       "      <td>0.047546</td>\n",
       "    </tr>\n",
       "    <tr>\n",
       "      <th>1970-01-01 00:09:00</th>\n",
       "      <td>0.029659</td>\n",
       "    </tr>\n",
       "    <tr>\n",
       "      <th>1970-01-01 00:09:10</th>\n",
       "      <td>0.020351</td>\n",
       "    </tr>\n",
       "    <tr>\n",
       "      <th>1970-01-01 00:09:20</th>\n",
       "      <td>0.063349</td>\n",
       "    </tr>\n",
       "    <tr>\n",
       "      <th>1970-01-01 00:09:30</th>\n",
       "      <td>0.018253</td>\n",
       "    </tr>\n",
       "    <tr>\n",
       "      <th>1970-01-01 00:09:40</th>\n",
       "      <td>0.039216</td>\n",
       "    </tr>\n",
       "    <tr>\n",
       "      <th>1970-01-01 00:09:50</th>\n",
       "      <td>0.025057</td>\n",
       "    </tr>\n",
       "  </tbody>\n",
       "</table>\n",
       "<p>1334 rows × 1 columns</p>\n",
       "</div>"
      ],
      "text/plain": [
       "                            speed\n",
       "ID                               \n",
       "1   1970-01-01 00:00:00  0.198754\n",
       "    1970-01-01 00:00:10  0.182466\n",
       "    1970-01-01 00:00:20  0.107933\n",
       "    1970-01-01 00:00:30  0.216202\n",
       "    1970-01-01 00:00:40  0.242328\n",
       "4   1970-01-01 00:00:00  0.179244\n",
       "    1970-01-01 00:00:10  0.174174\n",
       "    1970-01-01 00:00:20  0.197735\n",
       "    1970-01-01 00:00:30  0.223789\n",
       "    1970-01-01 00:00:40  0.189563\n",
       "    1970-01-01 00:00:50  0.267708\n",
       "5   1970-01-01 00:00:00  0.130003\n",
       "    1970-01-01 00:00:10  0.173761\n",
       "    1970-01-01 00:00:20  0.175286\n",
       "    1970-01-01 00:00:30  0.090638\n",
       "    1970-01-01 00:00:40  0.171291\n",
       "    1970-01-01 00:00:50  0.170006\n",
       "    1970-01-01 00:01:00  0.192885\n",
       "    1970-01-01 00:01:10  0.213570\n",
       "    1970-01-01 00:01:20  0.206213\n",
       "    1970-01-01 00:01:30  0.237992\n",
       "    1970-01-01 00:01:40  0.184528\n",
       "    1970-01-01 00:01:50  0.173528\n",
       "    1970-01-01 00:02:00  0.077084\n",
       "    1970-01-01 00:02:10  0.135133\n",
       "    1970-01-01 00:02:20  0.094113\n",
       "    1970-01-01 00:02:30  0.044333\n",
       "    1970-01-01 00:02:40  0.037018\n",
       "    1970-01-01 00:02:50  0.038547\n",
       "    1970-01-01 00:03:00  0.032183\n",
       "...                           ...\n",
       "324 1970-01-01 00:07:30  0.164127\n",
       "    1970-01-01 00:07:40  0.187863\n",
       "    1970-01-01 00:07:50  0.171447\n",
       "    1970-01-01 00:08:00  0.171187\n",
       "    1970-01-01 00:08:10  0.142347\n",
       "    1970-01-01 00:08:20  0.178724\n",
       "    1970-01-01 00:08:30  0.151885\n",
       "    1970-01-01 00:08:40  0.101055\n",
       "    1970-01-01 00:08:50  0.110602\n",
       "    1970-01-01 00:09:00  0.090933\n",
       "    1970-01-01 00:09:10  0.092290\n",
       "    1970-01-01 00:09:20  0.112751\n",
       "    1970-01-01 00:09:30  0.077627\n",
       "    1970-01-01 00:09:40  0.063054\n",
       "    1970-01-01 00:09:50  0.021543\n",
       "410 1970-01-01 00:07:30  0.206721\n",
       "    1970-01-01 00:07:40  0.191637\n",
       "    1970-01-01 00:07:50  0.137978\n",
       "    1970-01-01 00:08:00  0.066882\n",
       "    1970-01-01 00:08:10  0.073763\n",
       "    1970-01-01 00:08:20  0.031894\n",
       "    1970-01-01 00:08:30  0.063821\n",
       "    1970-01-01 00:08:40  0.030660\n",
       "    1970-01-01 00:08:50  0.047546\n",
       "    1970-01-01 00:09:00  0.029659\n",
       "    1970-01-01 00:09:10  0.020351\n",
       "    1970-01-01 00:09:20  0.063349\n",
       "    1970-01-01 00:09:30  0.018253\n",
       "    1970-01-01 00:09:40  0.039216\n",
       "    1970-01-01 00:09:50  0.025057\n",
       "\n",
       "[1334 rows x 1 columns]"
      ]
     },
     "execution_count": 8,
     "metadata": {},
     "output_type": "execute_result"
    }
   ],
   "source": [
    "speed_remix = speed_df.groupby('ID').resample('10s', how='mean')\n",
    "speed_remix"
   ]
  },
  {
   "cell_type": "code",
   "execution_count": 9,
   "metadata": {
    "collapsed": false
   },
   "outputs": [
    {
     "data": {
      "text/html": [
       "<div>\n",
       "<table border=\"1\" class=\"dataframe\">\n",
       "  <thead>\n",
       "    <tr style=\"text-align: right;\">\n",
       "      <th></th>\n",
       "      <th>ID</th>\n",
       "      <th>time</th>\n",
       "      <th>speed</th>\n",
       "    </tr>\n",
       "  </thead>\n",
       "  <tbody>\n",
       "    <tr>\n",
       "      <th>0</th>\n",
       "      <td>1</td>\n",
       "      <td>1970-01-01 00:00:00</td>\n",
       "      <td>0.198754</td>\n",
       "    </tr>\n",
       "    <tr>\n",
       "      <th>1</th>\n",
       "      <td>1</td>\n",
       "      <td>1970-01-01 00:00:10</td>\n",
       "      <td>0.182466</td>\n",
       "    </tr>\n",
       "    <tr>\n",
       "      <th>2</th>\n",
       "      <td>1</td>\n",
       "      <td>1970-01-01 00:00:20</td>\n",
       "      <td>0.107933</td>\n",
       "    </tr>\n",
       "    <tr>\n",
       "      <th>3</th>\n",
       "      <td>1</td>\n",
       "      <td>1970-01-01 00:00:30</td>\n",
       "      <td>0.216202</td>\n",
       "    </tr>\n",
       "    <tr>\n",
       "      <th>4</th>\n",
       "      <td>1</td>\n",
       "      <td>1970-01-01 00:00:40</td>\n",
       "      <td>0.242328</td>\n",
       "    </tr>\n",
       "  </tbody>\n",
       "</table>\n",
       "</div>"
      ],
      "text/plain": [
       "   ID                time     speed\n",
       "0   1 1970-01-01 00:00:00  0.198754\n",
       "1   1 1970-01-01 00:00:10  0.182466\n",
       "2   1 1970-01-01 00:00:20  0.107933\n",
       "3   1 1970-01-01 00:00:30  0.216202\n",
       "4   1 1970-01-01 00:00:40  0.242328"
      ]
     },
     "execution_count": 9,
     "metadata": {},
     "output_type": "execute_result"
    }
   ],
   "source": [
    "speed_remix = speed_remix.reset_index()\n",
    "speed_remix.columns = [['ID', 'time','speed']]\n",
    "speed_remix.head(5)"
   ]
  },
  {
   "cell_type": "code",
   "execution_count": 10,
   "metadata": {
    "collapsed": false
   },
   "outputs": [],
   "source": [
    "#jank\n",
    "speed_remix['time'] = speed_remix.time.astype(np.int64)/1000000000\n"
   ]
  },
  {
   "cell_type": "code",
   "execution_count": 11,
   "metadata": {
    "collapsed": false
   },
   "outputs": [
    {
     "data": {
      "text/html": [
       "<div>\n",
       "<table border=\"1\" class=\"dataframe\">\n",
       "  <thead>\n",
       "    <tr style=\"text-align: right;\">\n",
       "      <th></th>\n",
       "      <th>ID</th>\n",
       "      <th>time</th>\n",
       "      <th>speed</th>\n",
       "    </tr>\n",
       "  </thead>\n",
       "  <tbody>\n",
       "    <tr>\n",
       "      <th>0</th>\n",
       "      <td>1</td>\n",
       "      <td>0</td>\n",
       "      <td>0.198754</td>\n",
       "    </tr>\n",
       "    <tr>\n",
       "      <th>1</th>\n",
       "      <td>1</td>\n",
       "      <td>10</td>\n",
       "      <td>0.182466</td>\n",
       "    </tr>\n",
       "    <tr>\n",
       "      <th>2</th>\n",
       "      <td>1</td>\n",
       "      <td>20</td>\n",
       "      <td>0.107933</td>\n",
       "    </tr>\n",
       "    <tr>\n",
       "      <th>3</th>\n",
       "      <td>1</td>\n",
       "      <td>30</td>\n",
       "      <td>0.216202</td>\n",
       "    </tr>\n",
       "    <tr>\n",
       "      <th>4</th>\n",
       "      <td>1</td>\n",
       "      <td>40</td>\n",
       "      <td>0.242328</td>\n",
       "    </tr>\n",
       "  </tbody>\n",
       "</table>\n",
       "</div>"
      ],
      "text/plain": [
       "   ID  time     speed\n",
       "0   1     0  0.198754\n",
       "1   1    10  0.182466\n",
       "2   1    20  0.107933\n",
       "3   1    30  0.216202\n",
       "4   1    40  0.242328"
      ]
     },
     "execution_count": 11,
     "metadata": {},
     "output_type": "execute_result"
    }
   ],
   "source": [
    "speed_remix.head(5)"
   ]
  },
  {
   "cell_type": "code",
   "execution_count": 14,
   "metadata": {
    "collapsed": false
   },
   "outputs": [
    {
     "data": {
      "text/plain": [
       "<function matplotlib.pyplot.show>"
      ]
     },
     "execution_count": 14,
     "metadata": {},
     "output_type": "execute_result"
    },
    {
     "data": {
      "image/png": "[encoded data removed]",
      "text/plain": [
       "<matplotlib.figure.Figure at 0xb7a8080>"
      ]
     },
     "metadata": {},
     "output_type": "display_data"
    }
   ],
   "source": [
    "#scatterplot\n",
    "speed_remix.plot(kind = 'scatter', x='time',y='speed', color='b')\n",
    "\n",
    "plt.xlim(0,600)\n",
    "plt.ylim(0,0.3)\n",
    "\n",
    "plt.show"
   ]
  },
  {
   "cell_type": "code",
   "execution_count": 37,
   "metadata": {
    "collapsed": false
   },
   "outputs": [],
   "source": [
    "#linnear regression\n",
    "lm = sm.formula.ols(formula='speed ~ time', data=speed_remix).fit()"
   ]
  },
  {
   "cell_type": "code",
   "execution_count": 38,
   "metadata": {
    "collapsed": false
   },
   "outputs": [],
   "source": [
    "#makin it frame\n",
    "x_new = pd.DataFrame({'time' : range(1,700)})"
   ]
  },
  {
   "cell_type": "code",
   "execution_count": 34,
   "metadata": {
    "collapsed": false
   },
   "outputs": [
    {
     "ename": "SyntaxError",
     "evalue": "invalid syntax (<ipython-input-34-21bbbb8d31e9>, line 1)",
     "output_type": "error",
     "traceback": [
      "\u001b[1;36m  File \u001b[1;32m\"<ipython-input-34-21bbbb8d31e9>\"\u001b[1;36m, line \u001b[1;32m1\u001b[0m\n\u001b[1;33m    lm = sm.formula.ols(formula='speed ~ time', data = ).fit()\u001b[0m\n\u001b[1;37m                                                       ^\u001b[0m\n\u001b[1;31mSyntaxError\u001b[0m\u001b[1;31m:\u001b[0m invalid syntax\n"
     ]
    }
   ],
   "source": []
  },
  {
   "cell_type": "code",
   "execution_count": 47,
   "metadata": {
    "collapsed": false
   },
   "outputs": [],
   "source": [
    "#making prediction\n",
    "y_preds = lm.predict(x_new)\n"
   ]
  },
  {
   "cell_type": "code",
   "execution_count": 51,
   "metadata": {
    "collapsed": false
   },
   "outputs": [
    {
     "data": {
      "text/plain": [
       "[<matplotlib.lines.Line2D at 0x6012c50>]"
      ]
     },
     "execution_count": 51,
     "metadata": {},
     "output_type": "execute_result"
    },
    {
     "data": {
      "image/png": "[encoded data removed]",
      "text/plain": [
       "<matplotlib.figure.Figure at 0x5fa9a20>"
      ]
     },
     "metadata": {},
     "output_type": "display_data"
    }
   ],
   "source": [
    "speed_remix.plot(kind='scatter',x='time',y='speed', color='y')\n",
    "plt.xlim(0,600)\n",
    "plt.ylim(0,.3)\n",
    "plt.plot(x_new,y_preds,c='g',linewidth='3')"
   ]
  },
  {
   "cell_type": "code",
   "execution_count": 44,
   "metadata": {
    "collapsed": false
   },
   "outputs": [
    {
     "data": {
      "text/plain": [
       "array([[<matplotlib.axes._subplots.AxesSubplot object at 0x000000000B9C2630>]], dtype=object)"
      ]
     },
     "execution_count": 44,
     "metadata": {},
     "output_type": "execute_result"
    },
    {
     "data": {
      "image/png": "[encoded data removed]",
      "text/plain": [
       "<matplotlib.figure.Figure at 0x12d4668>"
      ]
     },
     "metadata": {},
     "output_type": "display_data"
    }
   ],
   "source": [
    "speed_remix.hist(column='speed',bins=50)"
   ]
  },
  {
   "cell_type": "code",
   "execution_count": 52,
   "metadata": {
    "collapsed": true
   },
   "outputs": [],
   "source": [
    "#getting the ends\n",
    "bag_end = speed_remix[(speed_remix.time==10)|(speed_remix.time==590)]"
   ]
  },
  {
   "cell_type": "code",
   "execution_count": 53,
   "metadata": {
    "collapsed": false
   },
   "outputs": [
    {
     "data": {
      "text/html": [
       "<div>\n",
       "<table border=\"1\" class=\"dataframe\">\n",
       "  <thead>\n",
       "    <tr style=\"text-align: right;\">\n",
       "      <th></th>\n",
       "      <th>ID</th>\n",
       "      <th>time</th>\n",
       "      <th>speed</th>\n",
       "    </tr>\n",
       "  </thead>\n",
       "  <tbody>\n",
       "    <tr>\n",
       "      <th>1</th>\n",
       "      <td>1</td>\n",
       "      <td>10</td>\n",
       "      <td>0.182466</td>\n",
       "    </tr>\n",
       "    <tr>\n",
       "      <th>6</th>\n",
       "      <td>4</td>\n",
       "      <td>10</td>\n",
       "      <td>0.174174</td>\n",
       "    </tr>\n",
       "    <tr>\n",
       "      <th>12</th>\n",
       "      <td>5</td>\n",
       "      <td>10</td>\n",
       "      <td>0.173761</td>\n",
       "    </tr>\n",
       "    <tr>\n",
       "      <th>40</th>\n",
       "      <td>6</td>\n",
       "      <td>10</td>\n",
       "      <td>0.067486</td>\n",
       "    </tr>\n",
       "    <tr>\n",
       "      <th>98</th>\n",
       "      <td>6</td>\n",
       "      <td>590</td>\n",
       "      <td>0.019512</td>\n",
       "    </tr>\n",
       "  </tbody>\n",
       "</table>\n",
       "</div>"
      ],
      "text/plain": [
       "    ID  time     speed\n",
       "1    1    10  0.182466\n",
       "6    4    10  0.174174\n",
       "12   5    10  0.173761\n",
       "40   6    10  0.067486\n",
       "98   6   590  0.019512"
      ]
     },
     "execution_count": 53,
     "metadata": {},
     "output_type": "execute_result"
    }
   ],
   "source": [
    "bag_end.head(5)"
   ]
  },
  {
   "cell_type": "code",
   "execution_count": 54,
   "metadata": {
    "collapsed": false
   },
   "outputs": [
    {
     "data": {
      "text/plain": [
       "<function matplotlib.pyplot.show>"
      ]
     },
     "execution_count": 54,
     "metadata": {},
     "output_type": "execute_result"
    },
    {
     "data": {
      "image/png": "[encoded data removed]",
      "text/plain": [
       "<matplotlib.figure.Figure at 0x5fef668>"
      ]
     },
     "metadata": {},
     "output_type": "display_data"
    }
   ],
   "source": [
    "#makin a boxplot\n",
    "bag_end.boxplot(by='time',column='speed')\n",
    "plt.show"
   ]
  },
  {
   "cell_type": "code",
   "execution_count": 55,
   "metadata": {
    "collapsed": false
   },
   "outputs": [
    {
     "data": {
      "text/plain": [
       "array([<matplotlib.axes._subplots.AxesSubplot object at 0x0000000006048278>,\n",
       "       <matplotlib.axes._subplots.AxesSubplot object at 0x0000000006103198>], dtype=object)"
      ]
     },
     "execution_count": 55,
     "metadata": {},
     "output_type": "execute_result"
    },
    {
     "data": {
      "image/png": "[encoded data removed]",
      "text/plain": [
       "<matplotlib.figure.Figure at 0x60b6d30>"
      ]
     },
     "metadata": {},
     "output_type": "display_data"
    }
   ],
   "source": [
    "#makin a histogram\n",
    "bag_end.hist(by='time',column='speed',bins=25)"
   ]
  },
  {
   "cell_type": "code",
   "execution_count": 59,
   "metadata": {
    "collapsed": true
   },
   "outputs": [],
   "source": [
    "beg = bag_end.speed[bag_end.time==10]\n",
    "end = bag_end.speed[bag_end.time==590]"
   ]
  },
  {
   "cell_type": "code",
   "execution_count": 62,
   "metadata": {
    "collapsed": false
   },
   "outputs": [
    {
     "data": {
      "text/plain": [
       "(0.9341524243354797, 0.13445772230625153)"
      ]
     },
     "execution_count": 62,
     "metadata": {},
     "output_type": "execute_result"
    }
   ],
   "source": [
    "scipy.stats.shapiro(beg)\n"
   ]
  },
  {
   "cell_type": "code",
   "execution_count": 63,
   "metadata": {
    "collapsed": false
   },
   "outputs": [
    {
     "data": {
      "text/plain": [
       "(0.655042290687561, 7.968059435370378e-06)"
      ]
     },
     "execution_count": 63,
     "metadata": {},
     "output_type": "execute_result"
    }
   ],
   "source": [
    "scipy.stats.shapiro(end)"
   ]
  },
  {
   "cell_type": "code",
   "execution_count": 64,
   "metadata": {
    "collapsed": false
   },
   "outputs": [
    {
     "data": {
      "text/plain": [
       "(24.001242236024837, 9.6273566151461083e-07)"
      ]
     },
     "execution_count": 64,
     "metadata": {},
     "output_type": "execute_result"
    }
   ],
   "source": [
    "scipy.stats.mstats.kruskalwallis(beg, end)"
   ]
  },
  {
   "cell_type": "code",
   "execution_count": null,
   "metadata": {
    "collapsed": true
   },
   "outputs": [],
   "source": []
  }
 ],
 "metadata": {
  "kernelspec": {
   "display_name": "Python 3",
   "language": "python",
   "name": "python3"
  },
  "language_info": {
   "codemirror_mode": {
    "name": "ipython",
    "version": 3
   },
   "file_extension": ".py",
   "mimetype": "text/x-python",
   "name": "python",
   "nbconvert_exporter": "python",
   "pygments_lexer": "ipython3",
   "version": "3.4.3"
  }
 },
 "nbformat": 4,
 "nbformat_minor": 0
}
